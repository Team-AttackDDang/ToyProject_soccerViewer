{
 "cells": [
  {
   "cell_type": "code",
   "execution_count": 3,
   "id": "ce5c113c",
   "metadata": {},
   "outputs": [
    {
     "name": "stdout",
     "output_type": "stream",
     "text": [
      "통산 승 = 42\n",
      "통산 무 = 15\n",
      "통산 패 = 21\n"
     ]
    },
    {
     "name": "stderr",
     "output_type": "stream",
     "text": [
      "C:\\Users\\고무고무\\AppData\\Local\\Temp\\ipykernel_12292\\3196044931.py:14: FutureWarning: this method is deprecated in favour of `Styler.hide(axis='index')`\n",
      "  data.style.hide_index()\n"
     ]
    }
   ],
   "source": [
    "##### SuperGomoo\n",
    "# jupyter notebook test\n",
    "import pandas as pd \n",
    "df = pd.read_table('../data/gameRecord.txt', sep=',', header=None, names=['날짜', '장소','상대팀','점수','결과'])\n",
    "\n",
    "\n",
    "# df['장소']\n",
    "\n",
    "no_stadium = ' 구장없음'\n",
    "no_stadium_remove = df[df['장소'].str.contains(no_stadium)].index\n",
    "df.drop(no_stadium_remove, inplace=True)\n",
    "data = df\n",
    "data = data.dropna()\n",
    "data.style.hide_index()\n",
    "\n",
    "total_game = 0\n",
    "Win_count = 0\n",
    "Draw_count = 0\n",
    "Lose_count = 0\n",
    "\n",
    "for totalWDL in data['결과']:\n",
    "#     if true :\n",
    "#         total_game = total_game + 1\n",
    "    if totalWDL == ' 승' :\n",
    "        Win_count = Win_count + 1\n",
    "    elif totalWDL == ' 무' :\n",
    "        Draw_count = Draw_count + 1\n",
    "    else :\n",
    "        Lose_count = Lose_count + 1\n",
    "\n",
    "# print(f'총 게임수 = {total_game}')\n",
    "print(f'통산 승 = {Win_count}')\n",
    "print(f'통산 무 = {Draw_count}')\n",
    "print(f'통산 패 = {Lose_count}')"
   ]
  }
 ],
 "metadata": {
  "kernelspec": {
   "display_name": "Python 3 (ipykernel)",
   "language": "python",
   "name": "python3"
  },
  "language_info": {
   "codemirror_mode": {
    "name": "ipython",
    "version": 3
   },
   "file_extension": ".py",
   "mimetype": "text/x-python",
   "name": "python",
   "nbconvert_exporter": "python",
   "pygments_lexer": "ipython3",
   "version": "3.9.12"
  }
 },
 "nbformat": 4,
 "nbformat_minor": 5
}
